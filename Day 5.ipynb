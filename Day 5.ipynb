{
 "cells": [
  {
   "cell_type": "markdown",
   "metadata": {},
   "source": [
    "## Trying to automate the check in sheet thing"
   ]
  },
  {
   "cell_type": "code",
   "execution_count": 130,
   "metadata": {},
   "outputs": [],
   "source": [
    "text = '''\n",
    ":heavy\n",
    "Heejin xkcd [3:06 AM]\n",
    "Check in/out (12/4)\n",
    "Team: S&O\n",
    "O: To equip youth with ingrained knowledge of systems thinking.\n",
    "KR(P1): A co-designing process for solutions for wicked problems that instills systems thinking.\n",
    "KR(P2): A systemic strategy and operations structure for implementing the CWIST model.\n",
    "\n",
    "Task(s):\n",
    "1. No work\n",
    ":heavy\n",
    "\n",
    "Valentina Liu [3:07 AM]\n",
    "Check in and out 12/3\n",
    "Team: R&D\n",
    "O: Produce all the materials needed to work with the youth group in carrying out a systematic diagnosis of the complex education problem that the schoolgirls face. (Nov 26 - Dec 23) CL: 7/10\n",
    "P2. Produce materials for Stage 1 that provides knowledge on the concepts, the activities they need to carry out, and the questions they need to answer.  (December 1) CL: 7/10\n",
    "Tasks:\n",
    "1. no work\n",
    "\n",
    "Valentina Liu [3:07]\n",
    "Check in and out 12/4\n",
    "Team: R&D\n",
    "O: Produce all the materials needed to work with the youth group in carrying out a systematic diagnosis of the complex education problem that the schoolgirls face. (Nov 26 - Dec 23) CL: 7/10\n",
    "P2. Produce materials for Stage 1 that provides knowledge on the concepts, the activities they need to carry out, and the questions they need to answer.  (December 1) CL: 7/10\n",
    "Tasks:\n",
    "1. no work\n",
    ":heavy\n",
    "\n",
    "Brenda xkcd [3:05 PM]\n",
    "Check in and check out 12/04:\n",
    "Team: AO\n",
    "O: To facilitate and ensure the work of SAYDS teams OKRs and apply for funding. \n",
    "KR: 2 Grant proposals/applications completed. \n",
    "Task: Identifying grants to apply for (100%)(1hr)\n",
    "\n",
    "'''"
   ]
  },
  {
   "cell_type": "code",
   "execution_count": 127,
   "metadata": {},
   "outputs": [],
   "source": [
    "import re\n",
    "\n",
    "\n",
    "#changing slacknames to real names using a dictionary of names\n",
    "slacknames = ['brianwahome254', 'anvitg', 'dennis', 'Jess Zier', 'Kimberley Kudwoli', 'Perpetua Muthoni', \n",
    "             'Sofia Camussi', 'Valentina Liu']\n",
    "realnames = ['Brian', 'Anvit', 'Dennis', 'Jess', 'Kimberley', 'Perpetua', 'Sofia', 'Valentina']\n",
    "slack_to_real = dict(zip(slacknames, realnames))\n",
    "for slackname, realname in slack_to_real.items():\n",
    "    text = text.replace(slackname, 'efgh ' + realname + ' xkcd')"
   ]
  },
  {
   "cell_type": "code",
   "execution_count": 129,
   "metadata": {},
   "outputs": [
    {
     "name": "stdout",
     "output_type": "stream",
     "text": [
      "\n",
      ":heavy\n",
      "Heejin xkcd [3:06 AM]\n",
      "Check in/out (12/4)\n",
      "Team: S&O\n",
      "O: To equip youth with ingrained knowledge of systems thinking.\n",
      "KR(P1): A co-designing process for solutions for wicked problems that instills systems thinking.\n",
      "KR(P2): A systemic strategy and operations structure for implementing the CWIST model.\n",
      "\n",
      "Task(s):\n",
      "1. No work\n",
      ":heavy\n",
      "\n",
      "efgh Valentina xkcd [3:07 AM]\n",
      "Check in and out 12/3\n",
      "Team: R&D\n",
      "O: Produce all the materials needed to work with the youth group in carrying out a systematic diagnosis of the complex education problem that the schoolgirls face. (Nov 26 - Dec 23) CL: 7/10\n",
      "P2. Produce materials for Stage 1 that provides knowledge on the concepts, the activities they need to carry out, and the questions they need to answer.  (December 1) CL: 7/10\n",
      "Tasks:\n",
      "1. no work\n",
      "\n",
      "efgh Valentina xkcd [3:07]\n",
      "Check in and out 12/4\n",
      "Team: R&D\n",
      "O: Produce all the materials needed to work with the youth group in carrying out a systematic diagnosis of the complex education problem that the schoolgirls face. (Nov 26 - Dec 23) CL: 7/10\n",
      "P2. Produce materials for Stage 1 that provides knowledge on the concepts, the activities they need to carry out, and the questions they need to answer.  (December 1) CL: 7/10\n",
      "Tasks:\n",
      "1. no work\n",
      ":heavy\n",
      "\n",
      "Brenda xkcd [3:05 PM]\n",
      "Check in and check out 12/04:\n",
      "Team: AO\n",
      "O: To facilitate and ensure the work of SAYDS teams OKRs and apply for funding. \n",
      "KR: 2 Grant proposals/applications completed. \n",
      "Task: Identifying grants to apply for (100%)(1hr)\n",
      "\n",
      "\n"
     ]
    }
   ],
   "source": [
    "print(text)"
   ]
  },
  {
   "cell_type": "code",
   "execution_count": 101,
   "metadata": {},
   "outputs": [
    {
     "name": "stdout",
     "output_type": "stream",
     "text": [
      "4\n"
     ]
    }
   ],
   "source": [
    "#creates dates\n",
    "\n",
    "dates = []\n",
    "pattern = re.compile(r'\\d\\d/\\d+')\n",
    "matches = pattern.finditer(text)\n",
    "for match in matches: \n",
    "    a = match.span()\n",
    "    #print(text[a[0]:a[1]])\n",
    "    dates.append(text[a[0]:a[1]])\n",
    "    #b = match.match()\n",
    "    #print(b)\n",
    "    #print(match)\n",
    "print(len(dates))"
   ]
  },
  {
   "cell_type": "code",
   "execution_count": 102,
   "metadata": {},
   "outputs": [
    {
     "name": "stdout",
     "output_type": "stream",
     "text": [
      "3\n",
      "4\n",
      "['\\nHeejin ', '\\n\\nValentina ', '']\n"
     ]
    }
   ],
   "source": [
    "#creates names\n",
    "\n",
    "names = []\n",
    "\n",
    "list2 = []\n",
    "pattern2 = re.compile(r':heavy')\n",
    "matches2 = pattern2.finditer(text)\n",
    "for match in matches2: \n",
    "    a = list(match.span())\n",
    "    list2.append(a)\n",
    "    #print(match)\n",
    "\n",
    "print(len(list2))\n",
    "    \n",
    "list3 = []\n",
    "pattern3 = re.compile(r'\\[\\d:')\n",
    "matches3 = pattern3.finditer(text)\n",
    "for match in matches3: \n",
    "    b = list(match.span())\n",
    "    #print(a[1])\n",
    "    list3.append(b)\n",
    "    #print(match)\n",
    "\n",
    "print(len(list3))\n",
    "    \n",
    "for x in range(len(list2)): \n",
    "    #print(text[list2[x][1]:list3[x][0]])\n",
    "    names.append(text[list2[x][1]:list3[x][0]])\n",
    "\n",
    "print((names))"
   ]
  },
  {
   "cell_type": "code",
   "execution_count": 323,
   "metadata": {},
   "outputs": [
    {
     "name": "stdout",
     "output_type": "stream",
     "text": [
      "1\n",
      "1\n",
      "1\n",
      "1\n"
     ]
    }
   ],
   "source": [
    "#creates teams\n",
    "\n",
    "team = []\n",
    "list2 = []\n",
    "pattern2 = re.compile(r'Team:')\n",
    "matches2 = pattern2.finditer(text)\n",
    "for match in matches2: \n",
    "    a = list(match.span())\n",
    "    #print(a[1])\n",
    "    list2.append(a)\n",
    "    #print(match)\n",
    "\n",
    "print(len(list2))\n",
    "    \n",
    "list3 = []\n",
    "pattern3 = re.compile(r'Objective:|O:')\n",
    "matches3 = pattern3.finditer(text)\n",
    "for match in matches3: \n",
    "    b = list(match.span())\n",
    "    #print(a[1])\n",
    "    list3.append(b)\n",
    "    #print(match)\n",
    "\n",
    "print(len(list3))\n",
    "    \n",
    "for x in range(len(list2)): \n",
    "    #print(text[list2[x][1]:list3[x][0]])\n",
    "    team.append(text[list2[x][1]:list3[x][0]])\n",
    "\n",
    "print(len(team))\n",
    "\n",
    "#removes new line and pagebreaks\n",
    "\n",
    "team2 = []\n",
    "for x in team: \n",
    "    if '\\n' in x: \n",
    "        #print(x)\n",
    "        x = x.replace('\\n', '')\n",
    "        team2.append(x)\n",
    "    else: \n",
    "        team2.append(x)\n",
    "        #print(x)\n",
    "    \n",
    "print(len(team2))"
   ]
  },
  {
   "cell_type": "code",
   "execution_count": 105,
   "metadata": {},
   "outputs": [
    {
     "name": "stdout",
     "output_type": "stream",
     "text": [
      "None\n"
     ]
    }
   ],
   "source": [
    "m = re.search('Team (.+?)Objective:|O:', text)\n",
    "if m:\n",
    "    found = m.group(1)\n",
    "print(found)"
   ]
  },
  {
   "cell_type": "code",
   "execution_count": 324,
   "metadata": {},
   "outputs": [
    {
     "name": "stdout",
     "output_type": "stream",
     "text": [
      "1\n",
      "1\n",
      "1\n"
     ]
    }
   ],
   "source": [
    "#creates objectives\n",
    "\n",
    "objectives = []\n",
    "list2 = []\n",
    "pattern2 = re.compile(r'Objective:|O: ')\n",
    "matches2 = pattern2.finditer(text)\n",
    "for match in matches2: \n",
    "    a = list(match.span())\n",
    "    #print(a[1])\n",
    "    list2.append(a)\n",
    "    #print(match)\n",
    "\n",
    "print(len(list2))\n",
    "\n",
    "list3 = []\n",
    "pattern3 = re.compile(r'KR1:|P1:|P4:|P5:|KR:|P2.|KR(P1):')\n",
    "matches3 = pattern3.finditer(text)\n",
    "for match in matches3: \n",
    "    b = list(match.span())\n",
    "    #print(a[1])\n",
    "    list3.append(b)\n",
    "    #print(match)\n",
    "\n",
    "print(len(list3))\n",
    "\n",
    "for x in range(len(list2)): \n",
    "    #print(text[list2[x][1]:list3[x][0]])\n",
    "    objectives.append(text[list2[x][1]:list3[x][0]])\n",
    "print(len(objectives))"
   ]
  },
  {
   "cell_type": "code",
   "execution_count": 325,
   "metadata": {},
   "outputs": [
    {
     "name": "stdout",
     "output_type": "stream",
     "text": [
      "1\n",
      "1\n",
      "1\n",
      "1\n"
     ]
    }
   ],
   "source": [
    "#creates KRs\n",
    "\n",
    "KRs = []\n",
    "\n",
    "list2 = []\n",
    "pattern2 = re.compile(r'KR1:|P1:|P4:|P5:|KR:|P2.|KR\\(P1\\): ')\n",
    "\n",
    "matches2 = pattern2.finditer(text)\n",
    "for match in matches2: \n",
    "    a = list(match.span())\n",
    "    #print(a[1])\n",
    "    list2.append(a)\n",
    "    #print(match)\n",
    "print(len(list2))\n",
    "list3 = []\n",
    "pattern3 = re.compile(r'Tasks:|Task:|Task\\(s\\):')\n",
    "matches3 = pattern3.finditer(text)\n",
    "for match in matches3: \n",
    "    b = list(match.span())\n",
    "    #print(a[1])\n",
    "    list3.append(b)\n",
    "    #print(match)\n",
    "\n",
    "print(len(list3))\n",
    "    \n",
    "for x in range(0, len(list2)): \n",
    "    #print(text[list2[x][1]:list3[x][0]])\n",
    "    KRs.append(text[list2[x][1]:list3[x][0]])\n",
    "#print(KRs)\n",
    "print(len(KRs))\n",
    "\n",
    "#removes new line and pagebreaks\n",
    "\n",
    "KRs2 = []\n",
    "for x in KRs: \n",
    "    if '\\n' in x: \n",
    "        #print(x)\n",
    "        x = x.replace('\\n', '')\n",
    "        KRs2.append(x)\n",
    "    else: \n",
    "        KRs2.append(x)\n",
    "        #print(x)\n",
    "    \n",
    "print(len(KRs))"
   ]
  },
  {
   "cell_type": "code",
   "execution_count": 326,
   "metadata": {},
   "outputs": [
    {
     "name": "stdout",
     "output_type": "stream",
     "text": [
      "1\n",
      "1\n",
      "1\n",
      "1\n"
     ]
    }
   ],
   "source": [
    "#creates tasks\n",
    "\n",
    "task = []\n",
    "list2 = []\n",
    "pattern2 = re.compile(r'Task:|Tasks:|Task\\(s\\):')\n",
    "matches2 = pattern2.finditer(text)\n",
    "for match in matches2: \n",
    "    a = list(match.span())\n",
    "    #print(a[1])\n",
    "    list2.append(a)\n",
    "    #print(match)\n",
    "\n",
    "print(len(list2))\n",
    "\n",
    "list3 = []\n",
    "pattern3 = re.compile(r':heavy')\n",
    "matches3 = pattern3.finditer(text)\n",
    "for match in matches3: \n",
    "    b = list(match.span())\n",
    "    #print(a[1])\n",
    "    list3.append(b)\n",
    "    #print(match)\n",
    "print(len(list3))\n",
    "for x in range(len(list2)): \n",
    "    #print(text[list2[x][1]:list3[x][0]])\n",
    "    task.append(text[list2[x][1]:list3[x][0]])\n",
    "\n",
    "print(len(list3))\n",
    "    \n",
    "task2 = []\n",
    "for x in task: \n",
    "    if '\\n' in x: \n",
    "        #print(x)\n",
    "        x = x.replace('\\n', '')\n",
    "        task2.append(x)\n",
    "        #print(x)\n",
    "    \n",
    "print(len(task2))"
   ]
  },
  {
   "cell_type": "code",
   "execution_count": 73,
   "metadata": {},
   "outputs": [],
   "source": [
    "#creates names\n",
    "old = '''\n",
    "names = []\n",
    "for x in range(len(task2)): \n",
    "    names.append('Alphabet')\n",
    "    \n",
    "print(len(names))\n",
    "'''\n"
   ]
  },
  {
   "cell_type": "code",
   "execution_count": 328,
   "metadata": {},
   "outputs": [],
   "source": [
    "#creates csv\n",
    "\n",
    "import csv\n",
    "\n",
    "newfile = 'persons.csv'\n",
    "with open(newfile, 'w', newline = '') as csvfile:\n",
    "    filewriter = csv.writer(csvfile, quoting=csv.QUOTE_MINIMAL)\n",
    "    filewriter.writerow(dates)\n",
    "    filewriter.writerow(names)\n",
    "    filewriter.writerow(team2)\n",
    "    filewriter.writerow(objectives)\n",
    "    filewriter.writerow(KRs2)\n",
    "    filewriter.writerow(task2)\n"
   ]
  },
  {
   "cell_type": "code",
   "execution_count": 329,
   "metadata": {},
   "outputs": [],
   "source": [
    "#transposes rows and colums\n",
    "\n",
    "import csv\n",
    "#from itertools import izip\n",
    "a = zip(*csv.reader(open(newfile, \"r\")))\n",
    "csv.writer(open(\"output.csv\", \"w\", newline = '')).writerows(a)"
   ]
  },
  {
   "cell_type": "code",
   "execution_count": 59,
   "metadata": {},
   "outputs": [
    {
     "data": {
      "text/plain": [
       "'\\n123 123 456 789 101112 161718 192021 456 789\\n'"
      ]
     },
     "execution_count": 59,
     "metadata": {},
     "output_type": "execute_result"
    }
   ],
   "source": [
    "import random\n",
    "alphabets = ['abc', 'def', 'ghi', 'jkl', 'mno', 'pqr', 'stu', 'vwx', 'yz']\n",
    "\n",
    "def nums(x): \n",
    "    a = lambda x: str(x) + str(x+1) + str(x+2)\n",
    "    return a(x)\n",
    "numbers = []\n",
    "for x in range(0,25,3): \n",
    "    numbers.append(nums(x))\n",
    "\n",
    "testext = '''\n",
    "abc 123 def ghi jkl pqr stu 456 789\n",
    "'''\n",
    "\n",
    "dictionary = {'abc':'123', 'def':'456',  'ghi':'789', 'jkl':'101112', 'mno':'131415', 'pqr':'161718', 'stu':'192021', 'vwx':'222324', 'yz':'2526'}\n",
    "for k, v in dictionary.items(): \n",
    "    testext = testext.replace(k, v)\n",
    "\n",
    "testext"
   ]
  },
  {
   "cell_type": "code",
   "execution_count": 60,
   "metadata": {},
   "outputs": [
    {
     "name": "stdout",
     "output_type": "stream",
     "text": [
      "{'abc': '012', 'def': '345', 'ghi': '678', 'jkl': '91011', 'mno': '121314', 'pqr': '151617', 'stu': '181920', 'vwx': '212223', 'yz': '242526'}\n"
     ]
    }
   ],
   "source": [
    "newdict = dict(zip(alphabets, numbers))\n",
    "print(newdict)"
   ]
  },
  {
   "cell_type": "code",
   "execution_count": null,
   "metadata": {},
   "outputs": [],
   "source": []
  }
 ],
 "metadata": {
  "kernelspec": {
   "display_name": "Python 3",
   "language": "python",
   "name": "python3"
  },
  "language_info": {
   "codemirror_mode": {
    "name": "ipython",
    "version": 3
   },
   "file_extension": ".py",
   "mimetype": "text/x-python",
   "name": "python",
   "nbconvert_exporter": "python",
   "pygments_lexer": "ipython3",
   "version": "3.6.5"
  }
 },
 "nbformat": 4,
 "nbformat_minor": 2
}
