{
 "cells": [
  {
   "cell_type": "markdown",
   "metadata": {},
   "source": [
    "## Trying to automate the check in sheet thing"
   ]
  },
  {
   "cell_type": "code",
   "execution_count": 321,
   "metadata": {},
   "outputs": [],
   "source": [
    "import re\n",
    "\n",
    "#sampletext\n",
    "text = '''\n",
    "Bob [6:58 PM]\n",
    "Check in and out 11/15\n",
    "Team: A&B\n",
    "O: Create the alphabet\n",
    "P3: Invent the cases\n",
    "P4: Add symbols and punctuation (Ddl 12/2; Conf. 8/10)\n",
    "Task: Choose between exclamation + question mark or interobang\n",
    ":heavy_check_mark:1 reaction\n",
    "'''\n",
    "\n",
    "text = text.replace('(Ddl 12/2; Conf. 8/10)', '')"
   ]
  },
  {
   "cell_type": "code",
   "execution_count": 322,
   "metadata": {},
   "outputs": [
    {
     "name": "stdout",
     "output_type": "stream",
     "text": [
      "1\n"
     ]
    }
   ],
   "source": [
    "#creates dates\n",
    "\n",
    "dates = []\n",
    "pattern = re.compile(r'\\d\\d/\\d+')\n",
    "matches = pattern.finditer(text)\n",
    "for match in matches: \n",
    "    a = match.span()\n",
    "    #print(text[a[0]:a[1]])\n",
    "    dates.append(text[a[0]:a[1]])\n",
    "    #b = match.match()\n",
    "    #print(b)\n",
    "    #print(match)\n",
    "print(len(dates))"
   ]
  },
  {
   "cell_type": "code",
   "execution_count": 323,
   "metadata": {},
   "outputs": [
    {
     "name": "stdout",
     "output_type": "stream",
     "text": [
      "1\n",
      "1\n",
      "1\n",
      "1\n"
     ]
    }
   ],
   "source": [
    "#creates teams\n",
    "\n",
    "team = []\n",
    "list2 = []\n",
    "pattern2 = re.compile(r'Team:')\n",
    "matches2 = pattern2.finditer(text)\n",
    "for match in matches2: \n",
    "    a = list(match.span())\n",
    "    #print(a[1])\n",
    "    list2.append(a)\n",
    "    #print(match)\n",
    "\n",
    "print(len(list2))\n",
    "    \n",
    "list3 = []\n",
    "pattern3 = re.compile(r'Objective:|O:')\n",
    "matches3 = pattern3.finditer(text)\n",
    "for match in matches3: \n",
    "    b = list(match.span())\n",
    "    #print(a[1])\n",
    "    list3.append(b)\n",
    "    #print(match)\n",
    "\n",
    "print(len(list3))\n",
    "    \n",
    "for x in range(len(list2)): \n",
    "    #print(text[list2[x][1]:list3[x][0]])\n",
    "    team.append(text[list2[x][1]:list3[x][0]])\n",
    "\n",
    "print(len(team))\n",
    "\n",
    "#removes new line and pagebreaks\n",
    "\n",
    "team2 = []\n",
    "for x in team: \n",
    "    if '\\n' in x: \n",
    "        #print(x)\n",
    "        x = x.replace('\\n', '')\n",
    "        team2.append(x)\n",
    "    else: \n",
    "        team2.append(x)\n",
    "        #print(x)\n",
    "    \n",
    "print(len(team2))"
   ]
  },
  {
   "cell_type": "code",
   "execution_count": 324,
   "metadata": {},
   "outputs": [
    {
     "name": "stdout",
     "output_type": "stream",
     "text": [
      "1\n",
      "1\n",
      "1\n"
     ]
    }
   ],
   "source": [
    "#creates objectives\n",
    "\n",
    "objectives = []\n",
    "list2 = []\n",
    "pattern2 = re.compile(r'Objective:|O: ')\n",
    "matches2 = pattern2.finditer(text)\n",
    "for match in matches2: \n",
    "    a = list(match.span())\n",
    "    #print(a[1])\n",
    "    list2.append(a)\n",
    "    #print(match)\n",
    "\n",
    "print(len(list2))\n",
    "\n",
    "list3 = []\n",
    "pattern3 = re.compile(r'KR1:|P1:|P4:|P5:|KR:|P2.|KR(P1):')\n",
    "matches3 = pattern3.finditer(text)\n",
    "for match in matches3: \n",
    "    b = list(match.span())\n",
    "    #print(a[1])\n",
    "    list3.append(b)\n",
    "    #print(match)\n",
    "\n",
    "print(len(list3))\n",
    "\n",
    "for x in range(len(list2)): \n",
    "    #print(text[list2[x][1]:list3[x][0]])\n",
    "    objectives.append(text[list2[x][1]:list3[x][0]])\n",
    "print(len(objectives))"
   ]
  },
  {
   "cell_type": "code",
   "execution_count": 325,
   "metadata": {},
   "outputs": [
    {
     "name": "stdout",
     "output_type": "stream",
     "text": [
      "1\n",
      "1\n",
      "1\n",
      "1\n"
     ]
    }
   ],
   "source": [
    "#creates KRs\n",
    "\n",
    "KRs = []\n",
    "\n",
    "list2 = []\n",
    "pattern2 = re.compile(r'KR1:|P1:|P4:|P5:|KR:|P2.|KR\\(P1\\): ')\n",
    "\n",
    "matches2 = pattern2.finditer(text)\n",
    "for match in matches2: \n",
    "    a = list(match.span())\n",
    "    #print(a[1])\n",
    "    list2.append(a)\n",
    "    #print(match)\n",
    "print(len(list2))\n",
    "list3 = []\n",
    "pattern3 = re.compile(r'Tasks:|Task:|Task\\(s\\):')\n",
    "matches3 = pattern3.finditer(text)\n",
    "for match in matches3: \n",
    "    b = list(match.span())\n",
    "    #print(a[1])\n",
    "    list3.append(b)\n",
    "    #print(match)\n",
    "\n",
    "print(len(list3))\n",
    "    \n",
    "for x in range(0, len(list2)): \n",
    "    #print(text[list2[x][1]:list3[x][0]])\n",
    "    KRs.append(text[list2[x][1]:list3[x][0]])\n",
    "#print(KRs)\n",
    "print(len(KRs))\n",
    "\n",
    "#removes new line and pagebreaks\n",
    "\n",
    "KRs2 = []\n",
    "for x in KRs: \n",
    "    if '\\n' in x: \n",
    "        #print(x)\n",
    "        x = x.replace('\\n', '')\n",
    "        KRs2.append(x)\n",
    "    else: \n",
    "        KRs2.append(x)\n",
    "        #print(x)\n",
    "    \n",
    "print(len(KRs))"
   ]
  },
  {
   "cell_type": "code",
   "execution_count": 326,
   "metadata": {},
   "outputs": [
    {
     "name": "stdout",
     "output_type": "stream",
     "text": [
      "1\n",
      "1\n",
      "1\n",
      "1\n"
     ]
    }
   ],
   "source": [
    "#creates tasks\n",
    "\n",
    "task = []\n",
    "list2 = []\n",
    "pattern2 = re.compile(r'Task:|Tasks:|Task\\(s\\):')\n",
    "matches2 = pattern2.finditer(text)\n",
    "for match in matches2: \n",
    "    a = list(match.span())\n",
    "    #print(a[1])\n",
    "    list2.append(a)\n",
    "    #print(match)\n",
    "\n",
    "print(len(list2))\n",
    "\n",
    "list3 = []\n",
    "pattern3 = re.compile(r':heavy')\n",
    "matches3 = pattern3.finditer(text)\n",
    "for match in matches3: \n",
    "    b = list(match.span())\n",
    "    #print(a[1])\n",
    "    list3.append(b)\n",
    "    #print(match)\n",
    "print(len(list3))\n",
    "for x in range(len(list2)): \n",
    "    #print(text[list2[x][1]:list3[x][0]])\n",
    "    task.append(text[list2[x][1]:list3[x][0]])\n",
    "\n",
    "print(len(list3))\n",
    "    \n",
    "task2 = []\n",
    "for x in task: \n",
    "    if '\\n' in x: \n",
    "        #print(x)\n",
    "        x = x.replace('\\n', '')\n",
    "        task2.append(x)\n",
    "        #print(x)\n",
    "    \n",
    "print(len(task2))"
   ]
  },
  {
   "cell_type": "code",
   "execution_count": 327,
   "metadata": {},
   "outputs": [
    {
     "name": "stdout",
     "output_type": "stream",
     "text": [
      "1\n"
     ]
    }
   ],
   "source": [
    "#creates names\n",
    "\n",
    "names = []\n",
    "for x in range(len(task2)): \n",
    "    names.append('Alphabet')\n",
    "    \n",
    "print(len(names))"
   ]
  },
  {
   "cell_type": "code",
   "execution_count": 328,
   "metadata": {},
   "outputs": [],
   "source": [
    "#creates csv\n",
    "\n",
    "import csv\n",
    "\n",
    "newfile = 'persons.csv'\n",
    "with open(newfile, 'w', newline = '') as csvfile:\n",
    "    filewriter = csv.writer(csvfile, quoting=csv.QUOTE_MINIMAL)\n",
    "    filewriter.writerow(dates)\n",
    "    filewriter.writerow(names)\n",
    "    filewriter.writerow(team2)\n",
    "    filewriter.writerow(objectives)\n",
    "    filewriter.writerow(KRs2)\n",
    "    filewriter.writerow(task2)\n"
   ]
  },
  {
   "cell_type": "code",
   "execution_count": 329,
   "metadata": {},
   "outputs": [],
   "source": [
    "#transposes rows and colums\n",
    "\n",
    "import csv\n",
    "#from itertools import izip\n",
    "a = zip(*csv.reader(open(newfile, \"r\")))\n",
    "csv.writer(open(\"output.csv\", \"w\", newline = '')).writerows(a)"
   ]
  },
  {
   "cell_type": "code",
   "execution_count": null,
   "metadata": {},
   "outputs": [],
   "source": []
  }
 ],
 "metadata": {
  "kernelspec": {
   "display_name": "Python 3",
   "language": "python",
   "name": "python3"
  },
  "language_info": {
   "codemirror_mode": {
    "name": "ipython",
    "version": 3
   },
   "file_extension": ".py",
   "mimetype": "text/x-python",
   "name": "python",
   "nbconvert_exporter": "python",
   "pygments_lexer": "ipython3",
   "version": "3.6.5"
  }
 },
 "nbformat": 4,
 "nbformat_minor": 2
}
