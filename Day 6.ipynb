{
 "cells": [
  {
   "cell_type": "code",
   "execution_count": 108,
   "metadata": {},
   "outputs": [],
   "source": [
    "import re\n",
    "\n",
    "beg = [r'\\d+th\\n\\n', r'Team: |Team:', r'Objective: |O: |Objective:|O:', \n",
    "       r'KR1: |P1: |P4: |P5: |P2. |KR(P1): |KR\\(P2\\): |KR: |KR1:|P1:|P4:|P5:|P2.|KR(P1):|KR\\(P2\\):|KR:', \n",
    "       r'Task: |Tasks: |Task\\(s\\): |Task:|Tasks:|Task\\(s\\):']\n",
    "end = [r' \\[\\d+:\\d\\d AM| \\[\\d+:\\d\\d PM', r'\\sObjective:|\\sO:', r'\\sKR1:|\\sP1:|\\sP4:|\\sP5:|\\sP2.|\\sKR(P1):|\\sKR\\(P2\\):|\\sKR:', \n",
    "      r'\\sTasks:|\\sTask:|\\sTask\\(s\\):', r'\\s:heavy']\n"
   ]
  },
  {
   "cell_type": "code",
   "execution_count": 109,
   "metadata": {},
   "outputs": [],
   "source": [
    "text = '''\n",
    "dennis [11:30 AM]\n",
    "Check in and out 12/8\n",
    "Team: R&D\n",
    "O: Produce all the materials needed to work with the youth group in carrying out a systematic diagnosis of the complex education problem that the schoolgirls face. (Nov 26 - Dec 23) CL: 7/10\n",
    "P2. Produce materials for Stage 1 that provides knowledge on the concepts, the activities they need to carry out, and the questions they need to answer. (December 1) CL: 7/10\n",
    "Tasks:\n",
    "1. Group learning activity design revisions (100%) (1.5 hrs)\n",
    ":heavy\n",
    "\n",
    "anvitg [8:57 PM]\n",
    "Check in and out 12/7\n",
    "Team: R&D\n",
    "O: Produce all the materials needed to work with the youth group in carrying out a systematic diagnosis of the complex education problem that the schoolgirls face. (Nov 26 - Dec 23) CL: 7/10\n",
    "P2. Produce materials for Stage 1 that provides knowledge on the concepts, the activities they need to carry out, and the questions they need to answer. (December 1) CL: 7/10\n",
    "Tasks: No work today\n",
    ":heavy\n",
    "\n",
    "Heejin [9:41 PM]\n",
    "Check in/out (12/7)\n",
    "Team: S&O\n",
    "O: To equip youth with ingrained knowledge of systems thinking.\n",
    "KR(P1): A co-designing process for solutions for wicked problems that instills systems thinking.\n",
    "KR(P2): A systemic strategy and operations structure for implementing the CWIST model.\n",
    "\n",
    "Task(s):\n",
    "1. No work\n",
    ":heavy\n",
    "'''"
   ]
  },
  {
   "cell_type": "code",
   "execution_count": 110,
   "metadata": {},
   "outputs": [],
   "source": [
    "#changing slacknames to real names using a dictionary of names\n",
    "\n",
    "slacknames = ['brianwahome254', 'anvitg', 'dennis', 'Jess Zier', 'Kimberley Kudwoli', 'Perpetua Muthoni', \n",
    "             'Sofia Camussi', 'Valentina Liu']\n",
    "realnames = ['Brian', 'Anvit', 'Dennis', 'Jess', 'Kimberley', 'Perpetua', 'Sofia', 'Valentina']\n",
    "slack_to_real = dict(zip(slacknames, realnames))\n",
    "for slackname, realname in slack_to_real.items():\n",
    "    text = text.replace(slackname, realname)"
   ]
  },
  {
   "cell_type": "code",
   "execution_count": 111,
   "metadata": {},
   "outputs": [],
   "source": [
    "names = []; teams = []; objectives = []; KRs = []; tasks = []\n",
    "\n",
    "biglist = [names, teams, objectives, KRs, tasks]\n",
    "\n",
    "for x in range(len(biglist)): \n",
    "    list2 = []\n",
    "    matches2 = re.compile(beg[x]).finditer(text)\n",
    "    for match in matches2: \n",
    "        list2.append(list(match.span()))\n",
    "\n",
    "    list3 = []\n",
    "    matches3 = re.compile(end[x]).finditer(text)\n",
    "    for match in matches3: \n",
    "        list3.append(list(match.span()))\n",
    "\n",
    "    for y in range(len(list2)): \n",
    "        biglist[x].append(text[list2[y][1]:list3[y][0]])"
   ]
  },
  {
   "cell_type": "code",
   "execution_count": 112,
   "metadata": {},
   "outputs": [],
   "source": [
    "dates = []\n",
    "\n",
    "matches = re.compile(r'\\d\\d/\\d+').finditer(text)\n",
    "for match in matches: \n",
    "    dates.append(text[match.span()[0]:match.span()[1]])"
   ]
  },
  {
   "cell_type": "code",
   "execution_count": 113,
   "metadata": {},
   "outputs": [],
   "source": [
    "import csv\n",
    "\n",
    "newfile = 'persons.csv'\n",
    "with open(newfile, 'w', newline = '') as csvfile:\n",
    "    filewriter = csv.writer(csvfile, quoting=csv.QUOTE_MINIMAL)\n",
    "    filewriter.writerow(dates)\n",
    "    filewriter.writerow(names)\n",
    "    filewriter.writerow(teams)\n",
    "    filewriter.writerow(objectives)\n",
    "    filewriter.writerow(KRs)\n",
    "    filewriter.writerow(tasks)"
   ]
  },
  {
   "cell_type": "code",
   "execution_count": 114,
   "metadata": {},
   "outputs": [],
   "source": [
    "#transposes rows and colums\n",
    "\n",
    "a = zip(*csv.reader(open(newfile, \"r\")))\n",
    "csv.writer(open(\"newoutput.csv\", \"w\")).writerows(a)"
   ]
  }
 ],
 "metadata": {
  "kernelspec": {
   "display_name": "Python 3",
   "language": "python",
   "name": "python3"
  },
  "language_info": {
   "codemirror_mode": {
    "name": "ipython",
    "version": 3
   },
   "file_extension": ".py",
   "mimetype": "text/x-python",
   "name": "python",
   "nbconvert_exporter": "python",
   "pygments_lexer": "ipython3",
   "version": "3.6.5"
  }
 },
 "nbformat": 4,
 "nbformat_minor": 2
}
