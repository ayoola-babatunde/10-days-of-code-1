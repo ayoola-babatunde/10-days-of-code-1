{
 "cells": [
  {
   "cell_type": "markdown",
   "metadata": {},
   "source": [
    "## Trying to automate the check in sheet thing"
   ]
  },
  {
   "cell_type": "code",
   "execution_count": 77,
   "metadata": {},
   "outputs": [],
   "source": [
    "import re\n",
    "\n",
    "text = '''\n",
    "\n",
    "'''"
   ]
  },
  {
   "cell_type": "code",
   "execution_count": 142,
   "metadata": {},
   "outputs": [
    {
     "name": "stdout",
     "output_type": "stream",
     "text": [
      "['11/14', '11/13', '11/12', '11/11', '11/10', '11/9', '11/8', '11/7', '11/7', '11/6']\n"
     ]
    }
   ],
   "source": [
    "dates = []\n",
    "pattern = re.compile(r'\\d\\d/\\d+')\n",
    "matches = pattern.finditer(text)\n",
    "for match in matches: \n",
    "    a = match.span()\n",
    "    #print(text[a[0]:a[1]])\n",
    "    dates.append(text[a[0]:a[1]])\n",
    "    #b = match.match()\n",
    "    #print(b)\n",
    "    #print(match)\n",
    "print(dates)"
   ]
  },
  {
   "cell_type": "code",
   "execution_count": 182,
   "metadata": {},
   "outputs": [
    {
     "name": "stdout",
     "output_type": "stream",
     "text": [
      "10\n"
     ]
    }
   ],
   "source": [
    "objectives = []\n",
    "list2 = []\n",
    "pattern2 = re.compile(r'O: ')\n",
    "matches2 = pattern2.finditer(text)\n",
    "for match in matches2: \n",
    "    a = list(match.span())\n",
    "    #print(a[1])\n",
    "    list2.append(a)\n",
    "    #print(match)\n",
    "\n",
    "list3 = []\n",
    "pattern3 = re.compile(r'P3: ')\n",
    "matches3 = pattern3.finditer(text)\n",
    "for match in matches3: \n",
    "    b = list(match.span())\n",
    "    #print(a[1])\n",
    "    list3.append(b)\n",
    "    #print(match)\n",
    "    \n",
    "for x in range(len(list2)): \n",
    "    #print(text[list2[x][1]:list3[x][0]])\n",
    "    objectives.append(text[list2[x][1]:list3[x][0]])\n",
    "print(len(objectives))"
   ]
  },
  {
   "cell_type": "code",
   "execution_count": 190,
   "metadata": {},
   "outputs": [
    {
     "name": "stdout",
     "output_type": "stream",
     "text": [
      "9\n",
      "9\n",
      "9\n"
     ]
    }
   ],
   "source": [
    "KRs = []\n",
    "\n",
    "list2 = []\n",
    "pattern2 = re.compile(r'P3: ')\n",
    "matches2 = pattern2.finditer(text)\n",
    "for match in matches2: \n",
    "    a = list(match.span())\n",
    "    #print(a[1])\n",
    "    list2.append(a)\n",
    "    #print(match)\n",
    "\n",
    "list3 = []\n",
    "pattern3 = re.compile(r'Task: ')\n",
    "matches3 = pattern3.finditer(text)\n",
    "for match in matches3: \n",
    "    b = list(match.span())\n",
    "    #print(a[1])\n",
    "    list3.append(b)\n",
    "    #print(match)\n",
    "\n",
    "print(len(list3))\n",
    "    \n",
    "for x in range(0, len(list2)-1): \n",
    "    #print(text[list2[x][1]:list3[x][0]])\n",
    "    KRs.append(text[list2[x][1]:list3[x][0]])\n",
    "#print(KRs)\n",
    "print(len(KRs))\n",
    "KRs2 = []\n",
    "for x in KRs: \n",
    "    if '\\n' in x: \n",
    "        #print(x)\n",
    "        x = x.replace('\\n', '')\n",
    "        KRs2.append(x)\n",
    "        #print(x)\n",
    "    \n",
    "print(len(KRs2))"
   ]
  },
  {
   "cell_type": "code",
   "execution_count": 168,
   "metadata": {},
   "outputs": [
    {
     "data": {
      "text/plain": [
       "['Research and essay on 14 Concepts (25%) (3.5 hours)',\n",
       " 'no work done today',\n",
       " 'no work done today',\n",
       " 'no work done today',\n",
       " 'General meeting (100%) (1 hour)',\n",
       " 'No work today',\n",
       " 'No work today',\n",
       " 'Start work on designing activities to teach concepts to youth group (15%) (2 hours)',\n",
       " 'Start work on designing activities to teach concepts to youth group (0%)']"
      ]
     },
     "execution_count": 168,
     "metadata": {},
     "output_type": "execute_result"
    }
   ],
   "source": [
    "task = []\n",
    "list2 = []\n",
    "pattern2 = re.compile(r'Task: ')\n",
    "matches2 = pattern2.finditer(text)\n",
    "for match in matches2: \n",
    "    a = list(match.span())\n",
    "    #print(a[1])\n",
    "    list2.append(a)\n",
    "    #print(match)\n",
    "\n",
    "list3 = []\n",
    "pattern3 = re.compile(r':heavy')\n",
    "matches3 = pattern3.finditer(text)\n",
    "for match in matches3: \n",
    "    b = list(match.span())\n",
    "    #print(a[1])\n",
    "    list3.append(b)\n",
    "    #print(match)\n",
    "    \n",
    "for x in range(len(list2)): \n",
    "    #print(text[list2[x][1]:list3[x][0]])\n",
    "    task.append(text[list2[x][1]:list3[x][0]])\n",
    "\n",
    "task2 = []\n",
    "for x in task: \n",
    "    if '\\n' in x: \n",
    "        #print(x)\n",
    "        x = x.replace('\\n', '')\n",
    "        task2.append(x)\n",
    "        #print(x)\n",
    "    \n",
    "task2"
   ]
  },
  {
   "cell_type": "code",
   "execution_count": 177,
   "metadata": {},
   "outputs": [
    {
     "data": {
      "text/plain": [
       "['Eduardo',\n",
       " 'Eduardo',\n",
       " 'Eduardo',\n",
       " 'Eduardo',\n",
       " 'Eduardo',\n",
       " 'Eduardo',\n",
       " 'Eduardo',\n",
       " 'Eduardo',\n",
       " 'Eduardo']"
      ]
     },
     "execution_count": 177,
     "metadata": {},
     "output_type": "execute_result"
    }
   ],
   "source": [
    "names = []\n",
    "for x in range(len(task2)): \n",
    "    names.append('Person')\n",
    "    \n",
    "names"
   ]
  },
  {
   "cell_type": "code",
   "execution_count": 179,
   "metadata": {},
   "outputs": [],
   "source": [
    "import csv\n",
    " \n",
    "with open('persons.csv', 'w') as csvfile:\n",
    "    filewriter = csv.writer(csvfile, quoting=csv.QUOTE_MINIMAL)\n",
    "    filewriter.writerow(dates)\n",
    "    filewriter.writerow(names)\n",
    "    filewriter.writerow(objectives)\n",
    "    filewriter.writerow(KRs2)\n",
    "    filewriter.writerow(task2)"
   ]
  }
 ],
 "metadata": {
  "kernelspec": {
   "display_name": "Python 3",
   "language": "python",
   "name": "python3"
  },
  "language_info": {
   "codemirror_mode": {
    "name": "ipython",
    "version": 3
   },
   "file_extension": ".py",
   "mimetype": "text/x-python",
   "name": "python",
   "nbconvert_exporter": "python",
   "pygments_lexer": "ipython3",
   "version": "3.6.5"
  }
 },
 "nbformat": 4,
 "nbformat_minor": 2
}
