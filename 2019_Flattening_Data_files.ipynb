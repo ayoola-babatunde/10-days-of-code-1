{
  "nbformat": 4,
  "nbformat_minor": 0,
  "metadata": {
    "colab": {
      "provenance": [],
      "collapsed_sections": [],
      "history_visible": true,
      "authorship_tag": "ABX9TyN7MJ/SKYc/DC3KJ/jhnRSF",
      "include_colab_link": true
    },
    "kernelspec": {
      "name": "python3",
      "display_name": "Python 3"
    },
    "language_info": {
      "name": "python"
    }
  },
  "cells": [
    {
      "cell_type": "markdown",
      "metadata": {
        "id": "view-in-github",
        "colab_type": "text"
      },
      "source": [
        "<a href=\"https://colab.research.google.com/github/ayoola-babatunde/10-days-of-code-1/blob/master/2019_Flattening_Data_files.ipynb\" target=\"_parent\"><img src=\"https://colab.research.google.com/assets/colab-badge.svg\" alt=\"Open In Colab\"/></a>"
      ]
    },
    {
      "cell_type": "markdown",
      "source": [
        "This is a script to convert the 2019 data (Tattum only) to proper cleanup format. This is in a separate colab file because it is too different from 2020-22. \n",
        "\n",
        "-Ayo"
      ],
      "metadata": {
        "id": "k_N4BfyQcJoo"
      }
    },
    {
      "cell_type": "code",
      "execution_count": 1,
      "metadata": {
        "id": "FYlX_-VXcEIM"
      },
      "outputs": [],
      "source": [
        "import pandas as pd\n",
        "import numpy as np"
      ]
    },
    {
      "cell_type": "markdown",
      "source": [
        "### 2019"
      ],
      "metadata": {
        "id": "eNzRYO3meIZh"
      }
    },
    {
      "cell_type": "code",
      "source": [
        "xls19 = pd.ExcelFile('https://docs.google.com/spreadsheets/d/e/2PACX-1vRzmUxWr-YprmvSuA6uS2kNnochdPj4dLviy-09TGNhtfhOzEYdobQTo4RRye1pIgM2gDBFJgAjcwdG/pub?output=xlsx')\n",
        "\n",
        "all_dfs19 = pd.read_excel(xls19, sheet_name = None, header=None)\n",
        "ppl = list(all_dfs19.keys())"
      ],
      "metadata": {
        "id": "Lfk4w4nxddId"
      },
      "execution_count": 2,
      "outputs": []
    },
    {
      "cell_type": "code",
      "source": [
        "h_row = ['End of Each Week', 'Date', 'Session #', 'Words per Min Cold (1 Minute Reading) ', '# of Errors', 'Fluency', 'Book Reading Level', 'Concept', 'Book Title (Page #)']\n",
        "\n",
        "good_sheets = [] #can be automated\n",
        "bad_sheets = [] #to be done manually\n",
        "\n",
        "for sheet in ppl: \n",
        "    if all_dfs19[sheet].iloc[8,:9].to_list() == h_row: \n",
        "        good_sheets.append(sheet)\n",
        "    else: \n",
        "        bad_sheets.append(sheet)"
      ],
      "metadata": {
        "id": "PdPzWG59ej_q"
      },
      "execution_count": 3,
      "outputs": []
    },
    {
      "cell_type": "code",
      "source": [
        "def fn_2019(good_sheets, all_dfs, year): \n",
        "    general = ['Student Full Name', 'Age', 'Grade', 'Tutor Full Name', 'Start', \n",
        "               'Program Partner Org/School', 'Program Enrollment', 'Year']\n",
        "    tattum = ['Student Full Name', 'Date', 'Session #', 'Concept', 'Tattum Book, page #', \n",
        "                'Grade Level', 'WPM', 'Errors', 'Fluency', 'Tutor Full Name', 'Year']\n",
        "\n",
        "    generaldf = pd.DataFrame(columns=general)\n",
        "    tattumdf = pd.DataFrame(columns=tattum)\n",
        "    for sheet in good_sheets: \n",
        "        currentdf = all_dfs[sheet]\n",
        "\n",
        "        #generaldf stuff\n",
        "        student_name = f\"{currentdf.iloc[1,1]} {currentdf.iloc[2,1]}\"\n",
        "        age = currentdf.iloc[3,1]\n",
        "        grade = currentdf.iloc[4,1]\n",
        "        tutor_name = currentdf.iloc[5,1]\n",
        "        start = currentdf.iloc[6,1]\n",
        "        year = year\n",
        "        current_gen_info = [student_name, age, grade, tutor_name, start, \"\", \"\", year]\n",
        "\n",
        "        generaldf = generaldf.append(pd.DataFrame(columns = general, data = [current_gen_info]))\n",
        "\n",
        "        #tattum stuff\n",
        "\n",
        "        #get index of last row of tattum data aka row that says \"Min\"\n",
        "        current_tattum_end = currentdf.iloc[:, 1][currentdf.iloc[:, 1] == \"Min\"].index.tolist()[0]\n",
        "\n",
        "        current_tattum_df = currentdf.iloc[8:current_tattum_end, :]\n",
        "        current_tattum_df.columns = current_tattum_df.iloc[0]\n",
        "        current_tattum_df = current_tattum_df[1:]\n",
        "        current_tattum_df.loc[:, 'Student Full Name'] = student_name\n",
        "        current_tattum_df.loc[:, 'Tutor Full Name'] = tutor_name\n",
        "        current_tattum_df.loc[:, 'Year'] = year\n",
        "        current_tattum_df.rename(columns={\"Book Title (Page #)\": 'Tattum Book, page #', \n",
        "                                        \"Book Reading Level\": 'Grade Level', \n",
        "                                        \"Words per Min Cold (1 Minute Reading) \": 'WPM', \n",
        "                                        \"# of Errors\": 'Errors'}, inplace=True)\n",
        "        current_tattum_df_re = current_tattum_df[tattum]\n",
        "        tattumdf = tattumdf.append(current_tattum_df_re)\n",
        "\n",
        "    return generaldf, tattumdf.dropna(thresh=8)\n",
        " \n"
      ],
      "metadata": {
        "id": "Wr0NuiPLlJVM"
      },
      "execution_count": 4,
      "outputs": []
    },
    {
      "cell_type": "code",
      "source": [
        "generaldf19, tattumdf19 = fn_2019(good_sheets, all_dfs19, 2019)"
      ],
      "metadata": {
        "id": "JSgcrG4zyQ1x"
      },
      "execution_count": 5,
      "outputs": []
    },
    {
      "cell_type": "code",
      "source": [
        "generaldf19.to_csv('2019gendf.csv')\n",
        "tattumdf19.to_csv('2019tatdf.csv')"
      ],
      "metadata": {
        "id": "09MmrQUs7yIx"
      },
      "execution_count": 6,
      "outputs": []
    },
    {
      "cell_type": "markdown",
      "source": [
        "### 2018"
      ],
      "metadata": {
        "id": "lypTSqfyeLJV"
      }
    },
    {
      "cell_type": "code",
      "source": [
        "#link goes to copy of 2018 sheet\n",
        "xls18 = pd.ExcelFile('https://docs.google.com/spreadsheets/d/e/2PACX-1vSEmY0rAsgLDhFR7ASGpGHggTBuaG5MNQqPtbLg8jmo-yt7kX_85s0ARw0JShLE9fO8QJ5TmOrSxT2s/pub?output=xlsx')\n",
        "\n",
        "all_dfs18 = pd.read_excel(xls18, sheet_name = None, header=None)\n",
        "ppl = list(all_dfs18.keys())"
      ],
      "metadata": {
        "colab": {
          "base_uri": "https://localhost:8080/"
        },
        "id": "7XylrOxdeMqu",
        "outputId": "ec8c89a8-dbb9-4b7f-8691-04b6d2edcd7f"
      },
      "execution_count": 7,
      "outputs": [
        {
          "output_type": "stream",
          "name": "stderr",
          "text": [
            "/usr/local/lib/python3.7/dist-packages/openpyxl/worksheet/_reader.py:211: UserWarning: Cell B22 is marked as a date but the serial value 6673664.0 is outside the limits for dates. The cell will be treated as an error.\n",
            "  warn(msg)\n"
          ]
        }
      ]
    },
    {
      "cell_type": "code",
      "source": [
        "h_row = ['End of Each Week', 'Date', 'Session #', 'Words per Min Cold (1 Minute Reading) ', '# of Errors', 'Fluency', 'Book Reading Level', 'Concept', 'Book Title (Page #)']\n",
        "\n",
        "good_sheets_9 = [] #data starts row 9, can be automated like 2019\n",
        "good_sheets_7 = [] #data starts row 7, can be automated slightly differently\n",
        "bad_sheets = [] #to be done manually\n",
        "\n",
        "for sheet in ppl: \n",
        "    if all_dfs18[sheet].iloc[6,:9].to_list() == h_row: \n",
        "        good_sheets_7.append(sheet)\n",
        "    elif all_dfs18[sheet].iloc[8,:9].to_list() == h_row: \n",
        "        good_sheets_9.append(sheet)\n",
        "    else: \n",
        "        bad_sheets.append(sheet)"
      ],
      "metadata": {
        "id": "RIiknEq8eVXN"
      },
      "execution_count": 8,
      "outputs": []
    },
    {
      "cell_type": "code",
      "source": [
        "generaldf18_1, tattumdf18_1 = fn_2019(good_sheets_9, all_dfs18, 2018)"
      ],
      "metadata": {
        "id": "kkPeA2MJyooz"
      },
      "execution_count": 9,
      "outputs": []
    },
    {
      "cell_type": "code",
      "source": [
        "#add two blank rows to make format same as row 9 starts\n",
        "for sheet in good_sheets_7: \n",
        "   currentdf = all_dfs18[sheet]\n",
        "   blankdf = pd.DataFrame([[\"\"] * len(currentdf.columns)]*2, columns = currentdf.columns)\n",
        "   currentdf = blankdf.append(currentdf, ignore_index=True)\n",
        "   all_dfs18[sheet] = currentdf"
      ],
      "metadata": {
        "id": "YV7JauEbxapq"
      },
      "execution_count": 10,
      "outputs": []
    },
    {
      "cell_type": "code",
      "source": [
        "generaldf18_2, tattumdf18_2 = fn_2019(good_sheets_7, all_dfs18, 2018)"
      ],
      "metadata": {
        "id": "Rfb2OtvC2sQA"
      },
      "execution_count": 11,
      "outputs": []
    },
    {
      "cell_type": "code",
      "source": [
        "generaldf18_1.append(generaldf18_2).to_csv('2018gendf.csv')\n",
        "tattumdf18_1.append(tattumdf18_2).to_csv('2018tatdf.csv')"
      ],
      "metadata": {
        "id": "YcY8r5AX20Aj"
      },
      "execution_count": 12,
      "outputs": []
    },
    {
      "cell_type": "code",
      "source": [],
      "metadata": {
        "id": "cGioR-VH4BfP"
      },
      "execution_count": null,
      "outputs": []
    }
  ]
}