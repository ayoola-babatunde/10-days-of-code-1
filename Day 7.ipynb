{
 "cells": [
  {
   "cell_type": "code",
   "execution_count": 447,
   "metadata": {},
   "outputs": [],
   "source": [
    "import re\n",
    "\n",
    "#names, teams, objectives, KRs, tasks\n",
    "\n",
    "beg = [r'\\w\\w\\w \\d+th\\n+', r'Team:', r'Objective:|O:', r'KR:', r'Task:|Tasks:|Task\\(s\\):']\n",
    "end = [r' \\[\\d+:\\d\\d AM| \\[\\d+:\\d\\d PM', r'Objective:|O:', r'KR:', r'Tasks:|Task:|Task\\(s\\):', r':heavy']\n"
   ]
  },
  {
   "cell_type": "code",
   "execution_count": 448,
   "metadata": {},
   "outputs": [],
   "source": [
    "text = '''\n",
    "Nov 6th\n",
    "\n",
    "Bob Ross [4:31 AM]\n",
    "Check in and out 12/7\n",
    "Team: R&D\n",
    "O: Produce all the materials needed to work with the youth group in carrying out a systematic diagnosis of the complex education problem that the schoolgirls face. (Nov 26 - Dec 23) CL: 7/10\n",
    "P2. Produce materials for Stage 1 that provides knowledge on the concepts, the activities they need to carry out, and the questions they need to answer.  (December 1) CL: 7/10\n",
    "Tasks:\n",
    "1. meet levy on florida program 100% 1h\n",
    "2. research on different schools of complexity 100% 2h\n",
    ":heavy\n",
    "'''"
   ]
  },
  {
   "cell_type": "code",
   "execution_count": 449,
   "metadata": {},
   "outputs": [],
   "source": [
    "#replacing unwanted things using a dictionary\n",
    "\n",
    "initial = ['P2.', '*', '(Ddl 12/22; Conf. 8/10)', '\\nKR(P2): ', '(P1)']\n",
    "final = ['KR:', '','','','','','','','','']\n",
    "initial_to_final = dict(zip(initial, final))\n",
    "for initial, final in initial_to_final.items():\n",
    "    text = text.replace(initial, final)\n",
    "#print(text)s"
   ]
  },
  {
   "cell_type": "code",
   "execution_count": 450,
   "metadata": {},
   "outputs": [],
   "source": [
    "#changing slacknames to real names using a dictionary of names\n",
    "\n",
    "slacknames = ['brianwahome254', 'anvitg', 'dennis', 'Jess Zier', 'Kimberley Kudwoli', 'Perpetua Muthoni', \n",
    "             'Sofia Camussi', 'Valentina Liu']\n",
    "realnames = ['Brian', 'Anvit', 'Dennis', 'Jess', 'Kimberley', 'Perpetua', 'Sofia', 'Valentina']\n",
    "slack_to_real = dict(zip(slacknames, realnames))\n",
    "for slackname, realname in slack_to_real.items():\n",
    "    text = text.replace(slackname, realname)"
   ]
  },
  {
   "cell_type": "code",
   "execution_count": 453,
   "metadata": {},
   "outputs": [
    {
     "name": "stdout",
     "output_type": "stream",
     "text": [
      "1\n",
      "1\n",
      "1\n",
      "1\n",
      "1\n",
      "1\n",
      "1\n",
      "1\n",
      "1\n",
      "1\n"
     ]
    }
   ],
   "source": [
    "names = []; teams = []; objectives = []; KRs = []; tasks = []\n",
    "\n",
    "biglist = [names, teams, objectives, KRs, tasks]\n",
    "\n",
    "for x in range(len(biglist)): \n",
    "    list2 = []\n",
    "    matches2 = re.compile(beg[x]).finditer(text)\n",
    "    for match in matches2: \n",
    "        list2.append(list(match.span()))\n",
    "    #if x>1:\n",
    "    #print(len(list2))\n",
    "\n",
    "    list3 = []\n",
    "    matches3 = re.compile(end[x]).finditer(text)\n",
    "    for match in matches3: \n",
    "        list3.append(list(match.span()))\n",
    "    print(len(list3))\n",
    "\n",
    "    for y in range(len(list2)): \n",
    "        abc = text[list2[y][1]:list3[y][0]]\n",
    "        abc = abc.replace('\\n', '')\n",
    "        biglist[x].append(abc)\n",
    "    \n",
    "    \n",
    "    #print(biglist[x])\n",
    "\n",
    "print(len(names))\n",
    "print(len(teams))\n",
    "print(len(objectives))\n",
    "print(len(KRs))\n",
    "print(len(tasks))"
   ]
  },
  {
   "cell_type": "code",
   "execution_count": 454,
   "metadata": {},
   "outputs": [
    {
     "name": "stdout",
     "output_type": "stream",
     "text": [
      "1\n"
     ]
    }
   ],
   "source": [
    "dates = []\n",
    "\n",
    "matches = re.compile(r'\\d\\d/\\d+').finditer(text)\n",
    "for match in matches: \n",
    "    dates.append(text[match.span()[0]:match.span()[1]])\n",
    "print(len(dates))"
   ]
  },
  {
   "cell_type": "code",
   "execution_count": 445,
   "metadata": {},
   "outputs": [],
   "source": [
    "import csv\n",
    "\n",
    "newfile = 'persons3.csv'\n",
    "with open(newfile, 'w', newline = '') as csvfile:\n",
    "    filewriter = csv.writer(csvfile, quoting=csv.QUOTE_MINIMAL)\n",
    "    filewriter.writerow(dates)\n",
    "    filewriter.writerow(names)\n",
    "    filewriter.writerow(teams)\n",
    "    filewriter.writerow(objectives)\n",
    "    filewriter.writerow(KRs)\n",
    "    filewriter.writerow(tasks)"
   ]
  },
  {
   "cell_type": "code",
   "execution_count": 446,
   "metadata": {},
   "outputs": [],
   "source": [
    "#transposes rows and columns\n",
    "\n",
    "a = zip(*csv.reader(open(newfile, \"r\")))\n",
    "csv.writer(open(\"output3.csv\", \"w\", newline = '')).writerows(a)"
   ]
  },
  {
   "cell_type": "code",
   "execution_count": null,
   "metadata": {},
   "outputs": [],
   "source": []
  }
 ],
 "metadata": {
  "kernelspec": {
   "display_name": "Python 3",
   "language": "python",
   "name": "python3"
  },
  "language_info": {
   "codemirror_mode": {
    "name": "ipython",
    "version": 3
   },
   "file_extension": ".py",
   "mimetype": "text/x-python",
   "name": "python",
   "nbconvert_exporter": "python",
   "pygments_lexer": "ipython3",
   "version": "3.6.5"
  }
 },
 "nbformat": 4,
 "nbformat_minor": 2
}
